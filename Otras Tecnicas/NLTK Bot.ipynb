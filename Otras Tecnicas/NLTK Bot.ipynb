{
 "cells": [
  {
   "cell_type": "code",
   "execution_count": 16,
   "metadata": {},
   "outputs": [],
   "source": [
    "\n",
    "\n",
    "from __future__ import print_function\n",
    "from nltk.chat.util import Chat, reflections\n",
    "\n",
    "\n",
    "reflections = {\"yo soy\":\"tú eres\"}\n",
    "\n",
    "\n",
    "pairs = (\n",
    "  (r'Necesito (.*)',\n",
    "  ( \"Por qué necesitas %1?\",\n",
    "    \"Realmente te aydar %1?\",\n",
    "    \"Estás seguro de que necesitas %1?\")),\n",
    "    \n",
    "  (r'salir',\n",
    "  ( \"Gracias por hablar conmigo.\",\n",
    "    \"Adiós.\",\n",
    "    \"Gracias, que tengas un buen día!\")),\n",
    " \n",
    "  (r'(.*)',\n",
    "  ( \"Por favor, cuéntame más detalles.\",\n",
    "    \"Cambiemos de tema... cuentame qué tal tu familia.\",\n",
    "    \"Podrías ser más específico?\",\n",
    "    \"Por qué dices %1?\",\n",
    "    \"Entiendo.\",\n",
    "    \"Muy interesante.\",\n",
    "    \"%1.\",\n",
    "    \"Ya veo.  Y eso qué representa para tí?\",\n",
    "    \"Cómo te hace sentir eso?\",\n",
    "    \"Cómo te sientes cuando dices eso?\"))\n",
    ")\n",
    "\n",
    "chatbot = Chat(pairs, reflections)\n",
    "\n",
    "\n",
    "def prueba_chat():\n",
    "    print(\"Bot de prueba\\n---------\")\n",
    "    print('escribe \"salir\" para terminar la conversación.')\n",
    "    print('='*72)\n",
    "    print(\"Hola.  ¿Qué tal estás?\")\n",
    "\n",
    "    chatbot.converse(quit='salir')\n"
   ]
  },
  {
   "cell_type": "code",
   "execution_count": 17,
   "metadata": {},
   "outputs": [
    {
     "name": "stdout",
     "output_type": "stream",
     "text": [
      "Bot de prueba\n",
      "---------\n",
      "escribe \"salir\" para terminar la conversación.\n",
      "========================================================================\n",
      "Hola.  ¿Qué tal estás?\n",
      ">hola\n",
      "Por favor, cuéntame más detalles.\n",
      ">yo soy tonto\n",
      "Cambiemos de tema... cuentame qué tal tu familia.\n",
      ">yo soy tonto\n",
      "Podrías ser más específico?\n",
      ">yo soy tonto\n",
      "Entiendo.\n",
      ">yo soy tonto\n",
      "Cómo te hace sentir eso?\n",
      ">yo soy tonto\n",
      "tú eres tonto.\n",
      ">salir\n",
      "Gracias, que tengas un buen día!\n"
     ]
    }
   ],
   "source": [
    "prueba_chat()\n"
   ]
  },
  {
   "cell_type": "code",
   "execution_count": null,
   "metadata": {
    "collapsed": true
   },
   "outputs": [],
   "source": []
  }
 ],
 "metadata": {
  "kernelspec": {
   "display_name": "Python 3",
   "language": "python",
   "name": "python3"
  },
  "language_info": {
   "codemirror_mode": {
    "name": "ipython",
    "version": 3
   },
   "file_extension": ".py",
   "mimetype": "text/x-python",
   "name": "python",
   "nbconvert_exporter": "python",
   "pygments_lexer": "ipython3",
   "version": "3.6.1"
  }
 },
 "nbformat": 4,
 "nbformat_minor": 2
}
