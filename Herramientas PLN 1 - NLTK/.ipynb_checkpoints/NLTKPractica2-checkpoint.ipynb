{
 "cells": [
  {
   "cell_type": "code",
   "execution_count": 1,
   "metadata": {},
   "outputs": [
    {
     "name": "stdout",
     "output_type": "stream",
     "text": [
      "Acierto con unigramas: 87.65970871234029\n",
      "Acierto con bigramas: 89.42636311057363\n",
      "Acierto con trigramas: 89.01624691098375\n",
      "Acierto con HMMs: 89.88905831011094\n"
     ]
    }
   ],
   "source": [
    "\n",
    "# 1. Importamos el corpus CESS del español, que es una colección de textos anotados\n",
    "from nltk.corpus import cess_esp\n",
    "\n",
    "\n",
    "# 2. Cargamos todas las frases anotadas del corpus CESS\n",
    "sents = cess_esp.tagged_sents()\n",
    "\n",
    "\n",
    "# 3. Creamos un conjunto de entrenamiento y otro de prueba\n",
    "#Metemos en el conjunto de entrenamiento el 90% de las frases, y el restante 10% en el conjunto de test\n",
    "training = []\n",
    "test = []\n",
    "for i in range(len(sents)):\n",
    "    if i % 10:\n",
    "        training.append(sents[i])\n",
    "    else:\n",
    "        test.append(sents[i])\n",
    "        \n",
    "        \n",
    "# 4. Creamos cuatro tipos distintos de analizadores morfológicos: \n",
    "# - Un tagger basado en unigramas: aprende de la estadística de cada palabra encontrada en el corpus CESS\n",
    "# - Otro basadoen bigramas: aprende de la estadística de una palabra y su palabra anterior\n",
    "# - Otro basado en trigramas: aprende a taggear una palabra basandose en la estadistica de la palabra y sus 2 anteriores\n",
    "# - Otro basado en Modelos Ocultos de Markov (en inglés Hidden Markov Models, HMM): es el modelo mas completo\n",
    "from nltk import UnigramTagger, BigramTagger, TrigramTagger\n",
    "from nltk.tag.hmm import HiddenMarkovModelTagger\n",
    "\n",
    "unigram_tagger = UnigramTagger(training)\n",
    "bigram_tagger = BigramTagger(training, backoff=unigram_tagger)\n",
    "trigram_tagger = TrigramTagger(training, backoff=unigram_tagger)\n",
    "hmm_tagger = HiddenMarkovModelTagger.train(training)\n",
    "\n",
    "\n",
    "\n",
    "# 5. Evaluamos sobre el conjunto de test que no usamos para el entrenamiento, para ver qué porcentaje de acierto hemos conseguido\n",
    "print ('Acierto con unigramas:',unigram_tagger.evaluate(test)*100)\n",
    "print ('Acierto con bigramas:',bigram_tagger.evaluate(test)*100)\n",
    "print ('Acierto con trigramas:',trigram_tagger.evaluate(test)*100)\n",
    "print ('Acierto con HMMs:',hmm_tagger.evaluate(test)*100)\n",
    "\n",
    "\n"
   ]
  },
  {
   "cell_type": "code",
   "execution_count": 10,
   "metadata": {},
   "outputs": [
    {
     "name": "stdout",
     "output_type": "stream",
     "text": [
      "[('Los', u'da0mp0'), ('perros', u'ncmp000'), ('son', u'vsip3p0'), ('buenos', u'aq0mp0'), ('chuchetes', None)]\n"
     ]
    }
   ],
   "source": [
    "\n",
    "# 6. Probamos uno de nuestro taggers\n",
    "\n",
    "import nltk\n",
    "\n",
    "\n",
    "sentence = \"Los perros son buenos chuchetes\"\n",
    "\n",
    "tokens = nltk.word_tokenize(sentence)\n",
    "tagged = trigram_tagger.tag(tokens)\n",
    "\n",
    "\n",
    "print (tagged)\n",
    "\n",
    "\n",
    "\n",
    "\n"
   ]
  },
  {
   "cell_type": "code",
   "execution_count": null,
   "metadata": {
    "collapsed": true
   },
   "outputs": [],
   "source": []
  },
  {
   "cell_type": "code",
   "execution_count": null,
   "metadata": {
    "collapsed": true
   },
   "outputs": [],
   "source": []
  }
 ],
 "metadata": {
  "kernelspec": {
   "display_name": "Python 3",
   "language": "python",
   "name": "python3"
  },
  "language_info": {
   "codemirror_mode": {
    "name": "ipython",
    "version": 3
   },
   "file_extension": ".py",
   "mimetype": "text/x-python",
   "name": "python",
   "nbconvert_exporter": "python",
   "pygments_lexer": "ipython3",
   "version": "3.7.1"
  }
 },
 "nbformat": 4,
 "nbformat_minor": 1
}
